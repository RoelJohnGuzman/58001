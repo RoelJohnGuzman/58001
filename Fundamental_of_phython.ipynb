{
  "nbformat": 4,
  "nbformat_minor": 0,
  "metadata": {
    "colab": {
      "provenance": [],
      "authorship_tag": "ABX9TyPXU/6unGas7H/Sz+R2PXKS",
      "include_colab_link": true
    },
    "kernelspec": {
      "name": "python3",
      "display_name": "Python 3"
    },
    "language_info": {
      "name": "python"
    }
  },
  "cells": [
    {
      "cell_type": "markdown",
      "metadata": {
        "id": "view-in-github",
        "colab_type": "text"
      },
      "source": [
        "<a href=\"https://colab.research.google.com/github/RoelJohnGuzman/OOP-58001/blob/main/Fundamental_of_phython.ipynb\" target=\"_parent\"><img src=\"https://colab.research.google.com/assets/colab-badge.svg\" alt=\"Open In Colab\"/></a>"
      ]
    },
    {
      "cell_type": "markdown",
      "source": [
        "Indentation"
      ],
      "metadata": {
        "id": "WotM8w8pRURU"
      }
    },
    {
      "cell_type": "code",
      "execution_count": null,
      "metadata": {
        "colab": {
          "base_uri": "https://localhost:8080/"
        },
        "id": "JrTrieWNRKYZ",
        "outputId": "e60ddc11-8473-4647-bf41-5b7b180f0db9"
      },
      "outputs": [
        {
          "output_type": "stream",
          "name": "stdout",
          "text": [
            "5 > 2\n"
          ]
        }
      ],
      "source": [
        "if 5 > 2:\n",
        "  print(\"5 > 2\")"
      ]
    },
    {
      "cell_type": "markdown",
      "source": [
        "Phython Comment"
      ],
      "metadata": {
        "id": "pXBJzPdaSXYk"
      }
    },
    {
      "cell_type": "code",
      "source": [
        "#This is a comment\n",
        "print(\"Hello World!\")"
      ],
      "metadata": {
        "colab": {
          "base_uri": "https://localhost:8080/"
        },
        "id": "NPR8RaRNSYh0",
        "outputId": "f5e8e625-ac0f-4d62-b884-aadb8e3c6498"
      },
      "execution_count": null,
      "outputs": [
        {
          "output_type": "stream",
          "name": "stdout",
          "text": [
            "Hello World!\n"
          ]
        }
      ]
    },
    {
      "cell_type": "markdown",
      "source": [
        "Phython Variable"
      ],
      "metadata": {
        "id": "b7B8yG6dSxDM"
      }
    },
    {
      "cell_type": "code",
      "source": [
        "x = 1 \n",
        "\n",
        "#single variable with multiple values \n",
        "array = [1,2,3]\n",
        "print (array)\n",
        "\n",
        "#multiple variable with single value\n",
        "a = b = c = 'maria '\n",
        "print(a)\n",
        "print (b)\n",
        "print(c)"
      ],
      "metadata": {
        "colab": {
          "base_uri": "https://localhost:8080/"
        },
        "id": "BhizmRJwTPqs",
        "outputId": "d041d33a-544c-42b7-be1e-762cdce41cf6"
      },
      "execution_count": null,
      "outputs": [
        {
          "output_type": "stream",
          "name": "stdout",
          "text": [
            "[1, 2, 3]\n",
            "maria \n",
            "maria \n",
            "maria \n"
          ]
        }
      ]
    },
    {
      "cell_type": "markdown",
      "source": [
        "Casting"
      ],
      "metadata": {
        "id": "vwiazGEWU0n9"
      }
    },
    {
      "cell_type": "code",
      "source": [
        "n = int(4)\n",
        "print (n)"
      ],
      "metadata": {
        "colab": {
          "base_uri": "https://localhost:8080/"
        },
        "id": "ZAXVNOFPU3HL",
        "outputId": "011008cc-bf8c-48cd-e2f6-0979495c0889"
      },
      "execution_count": null,
      "outputs": [
        {
          "output_type": "stream",
          "name": "stdout",
          "text": [
            "4\n"
          ]
        }
      ]
    },
    {
      "cell_type": "markdown",
      "source": [
        "Type Function"
      ],
      "metadata": {
        "id": "cQEXyBIHVHFD"
      }
    },
    {
      "cell_type": "code",
      "source": [
        "c = \"sally\"\n",
        "d = 5.6\n",
        " \n",
        "print (type(c))\n",
        "print (type(d))"
      ],
      "metadata": {
        "colab": {
          "base_uri": "https://localhost:8080/"
        },
        "id": "gbFycbCKVJmU",
        "outputId": "a934167a-7c71-450f-f380-28e7a2bf1ef1"
      },
      "execution_count": null,
      "outputs": [
        {
          "output_type": "stream",
          "name": "stdout",
          "text": [
            "<class 'str'>\n",
            "<class 'float'>\n"
          ]
        }
      ]
    },
    {
      "cell_type": "markdown",
      "source": [
        "Input Numerical Method"
      ],
      "metadata": {
        "id": "avlFNbR0Vmfk"
      }
    },
    {
      "cell_type": "code",
      "source": [
        "n = input (int())\n",
        "print (n)"
      ],
      "metadata": {
        "id": "EG-EzAe0arXu"
      },
      "execution_count": null,
      "outputs": []
    },
    {
      "cell_type": "markdown",
      "source": [
        "jashdjkashd"
      ],
      "metadata": {
        "id": "VaHUo762Ziyj"
      }
    },
    {
      "cell_type": "code",
      "source": [],
      "metadata": {
        "id": "OEbqMzE9ZrG8"
      },
      "execution_count": null,
      "outputs": []
    }
  ]
}