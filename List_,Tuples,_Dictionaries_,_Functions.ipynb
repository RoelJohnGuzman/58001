{
  "nbformat": 4,
  "nbformat_minor": 0,
  "metadata": {
    "colab": {
      "provenance": [],
      "authorship_tag": "ABX9TyOEu588EQdpQNj8xDQ+/GGX",
      "include_colab_link": true
    },
    "kernelspec": {
      "name": "python3",
      "display_name": "Python 3"
    },
    "language_info": {
      "name": "python"
    }
  },
  "cells": [
    {
      "cell_type": "markdown",
      "metadata": {
        "id": "view-in-github",
        "colab_type": "text"
      },
      "source": [
        "<a href=\"https://colab.research.google.com/github/RoelJohnGuzman/OOP-58001/blob/main/List_%2CTuples%2C_Dictionaries_%2C_Functions.ipynb\" target=\"_parent\"><img src=\"https://colab.research.google.com/assets/colab-badge.svg\" alt=\"Open In Colab\"/></a>"
      ]
    },
    {
      "cell_type": "markdown",
      "source": [
        "Functions"
      ],
      "metadata": {
        "id": "l9JpP3NbKvPL"
      }
    },
    {
      "cell_type": "code",
      "execution_count": 19,
      "metadata": {
        "colab": {
          "base_uri": "https://localhost:8080/"
        },
        "id": "EgtcwYxaHLcb",
        "outputId": "e93b5ab3-a5f1-4273-e8f7-e41e3c0d21ba"
      },
      "outputs": [
        {
          "output_type": "execute_result",
          "data": {
            "text/plain": [
              "50"
            ]
          },
          "metadata": {},
          "execution_count": 19
        }
      ],
      "source": [
        "class Shapes:\n",
        "    def __init__(self, length, width):\n",
        "      self.length = length\n",
        "      self.width = width\n",
        "    def area(self):\n",
        "      return self.length * self.width\n",
        "rectangle = Shapes(10,5)\n",
        "rectangle.area()"
      ]
    },
    {
      "cell_type": "markdown",
      "source": [
        "#Create your own function that will show you your full name and age\n",
        "#Use person as class name"
      ],
      "metadata": {
        "id": "vTWnHqOVN6vS"
      }
    },
    {
      "cell_type": "code",
      "source": [
        "class person:\n",
        "    def __init__(self, name, age):\n",
        "      self.name = name\n",
        "      self.age = age\n",
        "misskonasiya = person(\"Roel John Guzman\", 18)\n",
        "print(misskonasiya.name)\n",
        "print(misskonasiya.age)"
      ],
      "metadata": {
        "colab": {
          "base_uri": "https://localhost:8080/"
        },
        "id": "UGJvnZXbPvvg",
        "outputId": "a4344948-036b-4bed-be2e-712e58dab2fd"
      },
      "execution_count": 31,
      "outputs": [
        {
          "output_type": "stream",
          "name": "stdout",
          "text": [
            "Roel John Guzman\n",
            "18\n"
          ]
        }
      ]
    },
    {
      "cell_type": "code",
      "source": [
        "pi = 3.14150\n",
        "varlist = ['abc',1, 'def',2]\n",
        "print(varlist[0])\n",
        "\n",
        "varlist.append('gho')\n",
        "print(varlist)\n",
        "varlist.remove(2)\n",
        "print(varlist)\n",
        "varlist.insert(3,3)\n",
        "print(varlist)"
      ],
      "metadata": {
        "colab": {
          "base_uri": "https://localhost:8080/"
        },
        "id": "mkAGwBg-PulR",
        "outputId": "cf5883fd-6b22-4209-9c67-b8af92e4e6d2"
      },
      "execution_count": 44,
      "outputs": [
        {
          "output_type": "stream",
          "name": "stdout",
          "text": [
            "abc\n",
            "['abc', 1, 'def', 2, 'gho']\n",
            "['abc', 1, 'def', 'gho']\n",
            "['abc', 1, 'def', 3, 'gho']\n"
          ]
        }
      ]
    },
    {
      "cell_type": "markdown",
      "source": [
        "Dictonaries"
      ],
      "metadata": {
        "id": "lRQW2HL_V-Ha"
      }
    },
    {
      "cell_type": "code",
      "source": [
        "students = {\n",
        "    1:'anna',\n",
        "    2:'billy',\n",
        "    3:'maria',\n",
        "    4:'joy',\n",
        "    3:'bessey'\n",
        "}\n",
        "print(students)"
      ],
      "metadata": {
        "colab": {
          "base_uri": "https://localhost:8080/"
        },
        "id": "DRPhIxvgVBox",
        "outputId": "3d3d2083-c062-4bf6-e8ea-e2fbb19183ef"
      },
      "execution_count": 46,
      "outputs": [
        {
          "output_type": "stream",
          "name": "stdout",
          "text": [
            "{1: 'anna', 2: 'billy', 3: 'bessey', 4: 'joy'}\n"
          ]
        }
      ]
    }
  ]
}