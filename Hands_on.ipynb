{
  "nbformat": 4,
  "nbformat_minor": 0,
  "metadata": {
    "colab": {
      "provenance": [],
      "authorship_tag": "ABX9TyPZ6PrkNzzTpzix7UCtfXxu",
      "include_colab_link": true
    },
    "kernelspec": {
      "name": "python3",
      "display_name": "Python 3"
    },
    "language_info": {
      "name": "python"
    }
  },
  "cells": [
    {
      "cell_type": "markdown",
      "metadata": {
        "id": "view-in-github",
        "colab_type": "text"
      },
      "source": [
        "<a href=\"https://colab.research.google.com/github/RoelJohnGuzman/OOP-58001/blob/main/Hands_on.ipynb\" target=\"_parent\"><img src=\"https://colab.research.google.com/assets/colab-badge.svg\" alt=\"Open In Colab\"/></a>"
      ]
    },
    {
      "cell_type": "code",
      "source": [
        "class Person:\n",
        "  def __init__ (self,name,pre,mid,fin):\n",
        "    self.__name = name\n",
        "    self.__pre = pre\n",
        "    self.__mid = mid\n",
        "    self.__fin = fin\n",
        "    self.__avg = (self.__pre+self.__mid+self.__fin)/3\n",
        "  \n",
        "  def Grade(self):\n",
        "    print(\"Name:\" ,self.__name)\n",
        "    print(\"The average is\", self.__avg)\n",
        "\n",
        "class Student1(Person):\n",
        "  pass\n",
        "class Student2(Person):\n",
        "  pass\n",
        "class Student3(Person):\n",
        "  pass\n",
        "\n",
        "std1 = Student1(\"Despi\", 100, 80, 99)\n",
        "std1.Grade()\n",
        "std2 = Student2(\"Omen\", 97,90,95)\n",
        "std2.Grade()\n",
        "std3 = Student3(\"Host\", 90, 92,96)\n",
        "std3.Grade()\n",
        "  "
      ],
      "metadata": {
        "colab": {
          "base_uri": "https://localhost:8080/"
        },
        "id": "j4DDIToka0SC",
        "outputId": "f6811705-ed28-4e1b-9325-15efe3a380a6"
      },
      "execution_count": 86,
      "outputs": [
        {
          "output_type": "stream",
          "name": "stdout",
          "text": [
            "Name: Despi\n",
            "The average is 93.0\n",
            "Name: Omen\n",
            "The average is 94.0\n",
            "Name: Host\n",
            "The average is 92.66666666666667\n"
          ]
        }
      ]
    },
    {
      "cell_type": "code",
      "source": [],
      "metadata": {
        "id": "WvGwD4KleS0w"
      },
      "execution_count": null,
      "outputs": []
    }
  ]
}