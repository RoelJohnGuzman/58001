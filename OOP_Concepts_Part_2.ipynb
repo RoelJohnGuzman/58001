{
  "nbformat": 4,
  "nbformat_minor": 0,
  "metadata": {
    "colab": {
      "provenance": [],
      "authorship_tag": "ABX9TyN1EDsb2PgqfDdZVhItz57T",
      "include_colab_link": true
    },
    "kernelspec": {
      "name": "python3",
      "display_name": "Python 3"
    },
    "language_info": {
      "name": "python"
    }
  },
  "cells": [
    {
      "cell_type": "markdown",
      "metadata": {
        "id": "view-in-github",
        "colab_type": "text"
      },
      "source": [
        "<a href=\"https://colab.research.google.com/github/RoelJohnGuzman/OOP-58001/blob/main/OOP_Concepts_Part_2.ipynb\" target=\"_parent\"><img src=\"https://colab.research.google.com/assets/colab-badge.svg\" alt=\"Open In Colab\"/></a>"
      ]
    },
    {
      "cell_type": "code",
      "execution_count": 12,
      "metadata": {
        "colab": {
          "base_uri": "https://localhost:8080/"
        },
        "id": "kcG9NYMDW2uC",
        "outputId": "8b2c5740-9f3c-48b3-b79d-07ee75003f91"
      },
      "outputs": [
        {
          "output_type": "stream",
          "name": "stdout",
          "text": [
            "Griffon Vulture flies above clouds\n",
            "Common Crane flies above clouds\n",
            "Emuis the national bird of Philippines\n"
          ]
        }
      ],
      "source": [
        "#class with multiple objects\n",
        "\n",
        "class Birds:\n",
        "  def __init__(self,bird_name):\n",
        "    self.bird_name = bird_name\n",
        "  \n",
        "  def flying_birds(self):\n",
        "    print(f\"{self.bird_name} flies above clouds\")\n",
        "  \n",
        "  def non_flying_birds(self):\n",
        "    print(f\"{self.bird_name}is the national bird of Philippines\")\n",
        "\n",
        "vulture = Birds(\"Griffon Vulture\")\n",
        "crane = Birds(\"Common Crane\")\n",
        "emu = Birds(\"Emu\")\n",
        "\n",
        "vulture.flying_birds()\n",
        "crane.flying_birds()\n",
        "emu.non_flying_birds()\n"
      ]
    },
    {
      "cell_type": "code",
      "source": [
        "#Encapsulation\n",
        "\n",
        "class foo:\n",
        "  def __init__(self,a,b):\n",
        "    self.__a = a\n",
        "    self.__b = b\n",
        "  def add(self):\n",
        "    return self.__a + self.__b\n",
        "foo_object = foo(3,4)\n",
        "foo_object.add()\n",
        "foo_object.a = 5\n",
        "foo_object.add()"
      ],
      "metadata": {
        "colab": {
          "base_uri": "https://localhost:8080/"
        },
        "id": "TtHQtF9SYsyg",
        "outputId": "ef77970b-5147-4840-b7c8-1b942ebaf7d1"
      },
      "execution_count": 23,
      "outputs": [
        {
          "output_type": "execute_result",
          "data": {
            "text/plain": [
              "7"
            ]
          },
          "metadata": {},
          "execution_count": 23
        }
      ]
    },
    {
      "cell_type": "code",
      "source": [
        "\n",
        "class Counter:\n",
        "  def __init__ (self):\n",
        "    self.current = 0\n",
        "  \n",
        "  def increment(self):\n",
        "    self.current +=1\n",
        "\n",
        "  def value(self):\n",
        "    return self.current\n",
        "  \n",
        "  def reset(self):\n",
        "    self.current = 0\n",
        "\n"
      ],
      "metadata": {
        "id": "8nxzuCT4b3MZ"
      },
      "execution_count": 34,
      "outputs": []
    },
    {
      "cell_type": "code",
      "source": [
        "#Inheritance\n",
        "\n",
        "class person:\n",
        "  def __init__ (self,name,birthday):\n",
        "    self.name = name\n",
        "    self.birthday = birthday\n",
        "  \n",
        "  def display(self):\n",
        "    print (f\"my name is\",self.name)\n",
        "    print (f\"my birthday is\",self.birthday)\n",
        "\n",
        "class student(person):\n",
        "  pass\n",
        "class Teacher(person):\n",
        "  pass\n",
        "\n",
        "student = person(\"GuzmanTV\", \"April 1, 2004\")\n",
        "teacher = Teacher(\"Teacher\",\"now\" )\n",
        "student.display()\n",
        "teacher.display()"
      ],
      "metadata": {
        "colab": {
          "base_uri": "https://localhost:8080/"
        },
        "id": "Ehxjzz4-d5YE",
        "outputId": "f9b0f90a-49ae-459d-d92a-01126b6fccc3"
      },
      "execution_count": 48,
      "outputs": [
        {
          "output_type": "stream",
          "name": "stdout",
          "text": [
            "my name is GuzmanTV\n",
            "my birthday is April 1, 2004\n",
            "my name is Teacher\n",
            "my birthday is now\n"
          ]
        }
      ]
    },
    {
      "cell_type": "code",
      "source": [
        "#create a ckass bane Sgaoes (5 Shapes)\n",
        "#attributes sides\n",
        "#create a function/method that display the:\n",
        "#no. of sides if each shape \n",
        "#apply inheritance and encapsulation\n",
        "\n",
        "class shapes:\n",
        "  def __init__ (self,side):\n",
        "    self.__side = side\n",
        "  \n",
        "  def display(self):\n",
        "    print (f\"There are\",self.__side)\n",
        "\n",
        "class triangle(shapes):\n",
        "  pass\n",
        "class Square(shapes):\n",
        "  pass\n",
        "class Hexagon(shapes):\n",
        "  pass\n",
        "class Octagon(shapes):\n",
        "  pass\n",
        "class Decagon(shapes):\n",
        "  pass\n",
        "\n",
        "triangle = shapes(\"3 sides in a triangle\")\n",
        "square = Square(\"4 sides in a square\" )\n",
        "hexagon = Hexagon(\"6 sides in a hexagon\")\n",
        "octagon = Octagon(\"8 sides in a Octagon\")\n",
        "decagon = Decagon(\"10 sides in Decagon\")\n",
        "triangle.display()\n",
        "square.display()\n",
        "hexagon.display()\n",
        "octagon.display()\n",
        "decagon.display()"
      ],
      "metadata": {
        "colab": {
          "base_uri": "https://localhost:8080/"
        },
        "id": "xNKbM1cLggH6",
        "outputId": "ba93a73f-2e28-47a0-ca17-e2f61f2516ab"
      },
      "execution_count": 72,
      "outputs": [
        {
          "output_type": "stream",
          "name": "stdout",
          "text": [
            "There are 3 sides in a triangle\n",
            "There are 4 sides in a square\n",
            "There are 6 sides in a hexagon\n",
            "There are 8 sides in a Octagon\n",
            "There are 10 sides in Decagon\n"
          ]
        }
      ]
    }
  ]
}