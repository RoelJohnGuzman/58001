{
  "nbformat": 4,
  "nbformat_minor": 0,
  "metadata": {
    "colab": {
      "provenance": [],
      "authorship_tag": "ABX9TyMOWTYk7qumFWmt9s1vd9Tr",
      "include_colab_link": true
    },
    "kernelspec": {
      "name": "python3",
      "display_name": "Python 3"
    },
    "language_info": {
      "name": "python"
    }
  },
  "cells": [
    {
      "cell_type": "markdown",
      "metadata": {
        "id": "view-in-github",
        "colab_type": "text"
      },
      "source": [
        "<a href=\"https://colab.research.google.com/github/RoelJohnGuzman/OOP-58001/blob/main/Control_Structure.ipynb\" target=\"_parent\"><img src=\"https://colab.research.google.com/assets/colab-badge.svg\" alt=\"Open In Colab\"/></a>"
      ]
    },
    {
      "cell_type": "markdown",
      "source": [
        "Conditional Statement"
      ],
      "metadata": {
        "id": "utL7UoI3Dk-3"
      }
    },
    {
      "cell_type": "code",
      "source": [
        "#if statement\n",
        "\n",
        "if 5>1:\n",
        "  print(\"five is greater than two\")"
      ],
      "metadata": {
        "colab": {
          "base_uri": "https://localhost:8080/"
        },
        "id": "gNLIOyQuF-3-",
        "outputId": "72e7e077-8564-4608-81c7-08bcbc756095"
      },
      "execution_count": 24,
      "outputs": [
        {
          "output_type": "stream",
          "name": "stdout",
          "text": [
            "five is greater than two\n"
          ]
        }
      ]
    },
    {
      "cell_type": "code",
      "source": [
        "x = input(int())\n",
        "y = input (int())\n",
        "\n",
        "if x>y:\n",
        "  print(x + \" is greater than \" + y)"
      ],
      "metadata": {
        "colab": {
          "base_uri": "https://localhost:8080/"
        },
        "id": "DtyTAtlpGA7e",
        "outputId": "3d30032a-a6e8-4e6a-c506-dab5ab3afe74"
      },
      "execution_count": 30,
      "outputs": [
        {
          "output_type": "stream",
          "name": "stdout",
          "text": [
            "05\n",
            "02\n",
            "5 is greater than 2\n"
          ]
        }
      ]
    },
    {
      "cell_type": "code",
      "source": [
        "#elif statement\n",
        "\n",
        "a = 100 \n",
        "b= 50\n",
        "\n",
        "\n",
        "if a>b:\n",
        "  print(\"a is greater than b\")\n",
        "elif b>a:\n",
        "  print(\"b is greater than a\")"
      ],
      "metadata": {
        "id": "GZ1hSod7Gn20"
      },
      "execution_count": 39,
      "outputs": []
    },
    {
      "cell_type": "code",
      "source": [
        "#else statement\n",
        "\n",
        "if a>b:\n",
        "  print(\"a is greater than b\")\n",
        "elif b<a:\n",
        "  print(\"b is greater than a\")\n",
        "else:\n",
        "  (\"they are equal\")\n"
      ],
      "metadata": {
        "id": "BbeLIXqcIC_F"
      },
      "execution_count": 43,
      "outputs": []
    },
    {
      "cell_type": "code",
      "source": [
        "x = 49\n",
        "\n",
        "if x > 10:\n",
        "  print(\"Above ten,\")\n",
        "  if x > 20:\n",
        "    print(\"and also above 20!\")\n",
        "    if x >30:\n",
        "      print(\"and also above 30!\")\n",
        "      if x >40:\n",
        "          print(\"and also above 40\")\n",
        "          if x <50:\n",
        "            print(\"below 50\")\n",
        "          else:\n",
        "            print(\"above 50\")\n",
        "      else:\n",
        "          print(\"below 40\")\n",
        "    else:\n",
        "      print(\"below 30\")\n",
        "  else: \n",
        "    print(\"but not above 20\")"
      ],
      "metadata": {
        "colab": {
          "base_uri": "https://localhost:8080/"
        },
        "id": "4K0EUPByJHes",
        "outputId": "2c50c73a-9f40-4fb6-dd06-42a123f3cb50"
      },
      "execution_count": 56,
      "outputs": [
        {
          "output_type": "stream",
          "name": "stdout",
          "text": [
            "Above ten,\n",
            "and also above 20!\n",
            "and also above 30!\n",
            "and also above 40\n",
            "below 50\n"
          ]
        }
      ]
    },
    {
      "cell_type": "markdown",
      "source": [
        "Example 1"
      ],
      "metadata": {
        "id": "Yt7VUwqMMlz4"
      }
    },
    {
      "cell_type": "code",
      "source": [
        "x = int(input(\"Enter age: \"))\n",
        "\n",
        "if x>=18:\n",
        "  print(\"You are Qualified to vote\")\n",
        "else:\n",
        "  print (\"You are not Qualified to vote\")"
      ],
      "metadata": {
        "colab": {
          "base_uri": "https://localhost:8080/"
        },
        "id": "NxI-WaALJVIs",
        "outputId": "dda9ece0-1b42-43ec-e62e-a5df0f5dd989"
      },
      "execution_count": 119,
      "outputs": [
        {
          "output_type": "stream",
          "name": "stdout",
          "text": [
            "Enter age: 10\n",
            "You are not Qualified to vote\n"
          ]
        }
      ]
    },
    {
      "cell_type": "markdown",
      "source": [
        "Example 2"
      ],
      "metadata": {
        "id": "DXYcTRcuPSH5"
      }
    },
    {
      "cell_type": "code",
      "source": [
        "x = int(input(\"Enter number: \"))\n",
        "\n",
        "if x>0:\n",
        "  print(\"The number is positive\")\n",
        "elif x<0:\n",
        "    print(\"The number is negative\")\n",
        "else:\n",
        "  print(\"the number is zero\")\n",
        "\n",
        "\n",
        "  \n"
      ],
      "metadata": {
        "colab": {
          "base_uri": "https://localhost:8080/"
        },
        "id": "m6fvUemMMwoH",
        "outputId": "a6568150-c612-459e-d144-36bd87466123"
      },
      "execution_count": 123,
      "outputs": [
        {
          "output_type": "stream",
          "name": "stdout",
          "text": [
            "Enter number: 0\n",
            "the number is zero\n"
          ]
        }
      ]
    },
    {
      "cell_type": "markdown",
      "source": [
        "Example 3"
      ],
      "metadata": {
        "id": "eUeAbvpTRTbP"
      }
    },
    {
      "cell_type": "code",
      "source": [
        "x = int(input(\"Enter Grade: \"))\n",
        "\n",
        "if x>=70:\n",
        "  print(\"Passed\")\n",
        "if x>65 and x<69:\n",
        "  print(\"Remedial\")\n",
        "elif x<64:\n",
        "  print(\"Failed\")\n",
        "else:\n",
        "    print(\"It will not accepted\")\n"
      ],
      "metadata": {
        "colab": {
          "base_uri": "https://localhost:8080/"
        },
        "id": "m-YOYr82RXRw",
        "outputId": "5aaf8896-d059-442a-8df3-e798e95839d3"
      },
      "execution_count": 135,
      "outputs": [
        {
          "output_type": "stream",
          "name": "stdout",
          "text": [
            "Enter Grade: 67\n",
            "Remedial\n"
          ]
        }
      ]
    },
    {
      "cell_type": "code",
      "source": [],
      "metadata": {
        "id": "YXZKNtKdSdv0"
      },
      "execution_count": null,
      "outputs": []
    }
  ]
}