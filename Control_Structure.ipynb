{
  "nbformat": 4,
  "nbformat_minor": 0,
  "metadata": {
    "colab": {
      "provenance": [],
      "authorship_tag": "ABX9TyOAp/GdN09ipAR/RnFONhKo",
      "include_colab_link": true
    },
    "kernelspec": {
      "name": "python3",
      "display_name": "Python 3"
    },
    "language_info": {
      "name": "python"
    }
  },
  "cells": [
    {
      "cell_type": "markdown",
      "metadata": {
        "id": "view-in-github",
        "colab_type": "text"
      },
      "source": [
        "<a href=\"https://colab.research.google.com/github/RoelJohnGuzman/OOP-58001/blob/main/Control_Structure.ipynb\" target=\"_parent\"><img src=\"https://colab.research.google.com/assets/colab-badge.svg\" alt=\"Open In Colab\"/></a>"
      ]
    },
    {
      "cell_type": "markdown",
      "source": [
        "Conditional Statement"
      ],
      "metadata": {
        "id": "utL7UoI3Dk-3"
      }
    },
    {
      "cell_type": "code",
      "source": [
        "#if statement\n",
        "\n",
        "if 5>1:\n",
        "  print(\"five is greater than two\")"
      ],
      "metadata": {
        "colab": {
          "base_uri": "https://localhost:8080/"
        },
        "id": "gNLIOyQuF-3-",
        "outputId": "72e7e077-8564-4608-81c7-08bcbc756095"
      },
      "execution_count": 24,
      "outputs": [
        {
          "output_type": "stream",
          "name": "stdout",
          "text": [
            "five is greater than two\n"
          ]
        }
      ]
    },
    {
      "cell_type": "code",
      "source": [
        "x = input(int())\n",
        "y = input (int())\n",
        "\n",
        "if x>y:\n",
        "  print(x + \" is greater than \" + y)"
      ],
      "metadata": {
        "colab": {
          "base_uri": "https://localhost:8080/"
        },
        "id": "DtyTAtlpGA7e",
        "outputId": "3d30032a-a6e8-4e6a-c506-dab5ab3afe74"
      },
      "execution_count": 30,
      "outputs": [
        {
          "output_type": "stream",
          "name": "stdout",
          "text": [
            "05\n",
            "02\n",
            "5 is greater than 2\n"
          ]
        }
      ]
    },
    {
      "cell_type": "code",
      "source": [
        "#elif statement\n",
        "\n",
        "a = 100 \n",
        "b= 50\n",
        "\n",
        "\n",
        "if a>b:\n",
        "  print(\"a is greater than b\")\n",
        "elif b>a:\n",
        "  print(\"b is greater than a\")"
      ],
      "metadata": {
        "id": "GZ1hSod7Gn20"
      },
      "execution_count": 39,
      "outputs": []
    },
    {
      "cell_type": "code",
      "source": [
        "#else statement\n",
        "\n",
        "if a>b:\n",
        "  print(\"a is greater than b\")\n",
        "elif b<a:\n",
        "  print(\"b is greater than a\")\n",
        "else:\n",
        "  (\"they are equal\")\n"
      ],
      "metadata": {
        "id": "BbeLIXqcIC_F"
      },
      "execution_count": 43,
      "outputs": []
    },
    {
      "cell_type": "code",
      "source": [
        "x = 49\n",
        "\n",
        "if x > 10:\n",
        "  print(\"Above ten,\")\n",
        "  if x > 20:\n",
        "    print(\"and also above 20!\")\n",
        "    if x >30:\n",
        "      print(\"and also above 30!\")\n",
        "      if x >40:\n",
        "          print(\"and also above 40\")\n",
        "          if x <50:\n",
        "            print(\"below 50\")\n",
        "          else:\n",
        "            print(\"above 50\")\n",
        "      else:\n",
        "          print(\"below 40\")\n",
        "    else:\n",
        "      print(\"below 30\")\n",
        "  else: \n",
        "    print(\"but not above 20\")"
      ],
      "metadata": {
        "colab": {
          "base_uri": "https://localhost:8080/"
        },
        "id": "4K0EUPByJHes",
        "outputId": "2c50c73a-9f40-4fb6-dd06-42a123f3cb50"
      },
      "execution_count": 56,
      "outputs": [
        {
          "output_type": "stream",
          "name": "stdout",
          "text": [
            "Above ten,\n",
            "and also above 20!\n",
            "and also above 30!\n",
            "and also above 40\n",
            "below 50\n"
          ]
        }
      ]
    },
    {
      "cell_type": "code",
      "source": [],
      "metadata": {
        "id": "NxI-WaALJVIs"
      },
      "execution_count": null,
      "outputs": []
    }
  ]
}